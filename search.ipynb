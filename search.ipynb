{
 "cells": [
  {
   "cell_type": "code",
   "execution_count": 15,
   "id": "f86f076e-20f2-4c39-8801-83d327b59eb4",
   "metadata": {},
   "outputs": [],
   "source": [
    "from transformers import AutoTokenizer, AutoModel\n",
    "import torch\n",
    "\n",
    "tokenizer = AutoTokenizer.from_pretrained('BAAI/bge-large-en-v1.5')\n",
    "model = AutoModel.from_pretrained('BAAI/bge-large-en-v1.5').cuda()\n",
    "model = model.eval()\n"
   ]
  },
  {
   "cell_type": "code",
   "execution_count": 16,
   "id": "4b147fc3-f943-4654-b26e-5d448c17bc74",
   "metadata": {},
   "outputs": [],
   "source": [
    "chunks, embeds = torch.load(\"database.pt\")"
   ]
  },
  {
   "cell_type": "code",
   "execution_count": 17,
   "id": "aadab346-1aef-4435-a3a4-139fc1562a24",
   "metadata": {},
   "outputs": [],
   "source": [
    "query = \"what is Llada\"\n",
    "encoded_input = tokenizer(query, padding=\"longest\", truncation=True, return_tensors='pt')\n",
    "for k, v in encoded_input.items():\n",
    "    encoded_input[k] = v.cuda()\n",
    "with torch.no_grad():\n",
    "    model_output = model(**encoded_input)\n",
    "    sentence_embeddings = model_output[0][:, 0]\n",
    "    sentence_embeddings = torch.nn.functional.normalize(sentence_embeddings, p=2, dim=1)"
   ]
  },
  {
   "cell_type": "code",
   "execution_count": 28,
   "id": "45bb27c4-c43b-4fd2-ad69-b0b4dd0f9b09",
   "metadata": {},
   "outputs": [
    {
     "name": "stdout",
     "output_type": "stream",
     "text": [
      "y.\n",
      "placeholder,placeholder,placeh—Albert Einstein\n",
      "We introduce LLaDA, a principled and previously unex-\n",
      "plored approach to large language modeling based on dif-\n",
      "fusion models. LLaDA demonstrates strong capabilities in\n",
      "scalability, in-context learning, and instruction-following,\n",
      "achieving performance comparable to strong LLMs. In addi-\n",
      "tion, LLaDA offers unique advantages such as bidirectional\n",
      "modeling and enhanced robustness, effectively addressing\n",
      "several inherent limitations of existing LLMs. Our findings\n",
      "not only establish diffusion models as a viable and promis-\n",
      "ing alternative but also challenge the prevailing assumption\n",
      "that these essential capabilities are inherently tied to ARMs.\n",
      "While promising, the full potential of diffusion models re-\n",
      "mains to be fully explored. Several limitations of this work\n",
      "present significant opportunities for future research.\n",
      "Due to computational constraints, direct comparisons be-\n",
      "tween LLaDA and ARMs—such as training on identical\n",
      "datasets—were restr\n"
     ]
    }
   ],
   "source": [
    "print(chunks[41])"
   ]
  },
  {
   "cell_type": "code",
   "execution_count": 24,
   "id": "9525a0c1-bb6a-424b-acf3-46f383495084",
   "metadata": {},
   "outputs": [
    {
     "data": {
      "text/plain": [
       "torch.return_types.topk(\n",
       "values=tensor([[0.6336, 0.6263, 0.6240, 0.6224, 0.6200, 0.6142, 0.6137, 0.6088, 0.6086,\n",
       "         0.6046]], device='cuda:0'),\n",
       "indices=tensor([[106,  25,   8,  13,  40,  22,  41, 107, 102,  42]], device='cuda:0'))"
      ]
     },
     "execution_count": 24,
     "metadata": {},
     "output_type": "execute_result"
    }
   ],
   "source": [
    "(sentence_embeddings @ embeds.T).topk(10)"
   ]
  },
  {
   "cell_type": "code",
   "execution_count": 18,
   "id": "048bd730-4819-4e9b-b3c8-f108514eb63c",
   "metadata": {},
   "outputs": [
    {
     "data": {
      "text/plain": [
       "torch.Size([1, 1024])"
      ]
     },
     "execution_count": 18,
     "metadata": {},
     "output_type": "execute_result"
    }
   ],
   "source": [
    "sentence_embeddings.shape"
   ]
  },
  {
   "cell_type": "code",
   "execution_count": 13,
   "id": "d78f11a1-d80e-4c84-a912-63628588b0be",
   "metadata": {},
   "outputs": [
    {
     "data": {
      "text/plain": [
       "110"
      ]
     },
     "execution_count": 13,
     "metadata": {},
     "output_type": "execute_result"
    }
   ],
   "source": [
    "len(chunks)"
   ]
  },
  {
   "cell_type": "code",
   "execution_count": 14,
   "id": "fe6c3a86-6e29-418d-9513-b79a67aacc45",
   "metadata": {},
   "outputs": [
    {
     "data": {
      "text/plain": [
       "torch.Size([1512, 1024])"
      ]
     },
     "execution_count": 14,
     "metadata": {},
     "output_type": "execute_result"
    }
   ],
   "source": [
    "embeds.shape"
   ]
  },
  {
   "cell_type": "code",
   "execution_count": null,
   "id": "6479e885-e847-425e-bd02-b38845439aea",
   "metadata": {},
   "outputs": [],
   "source": [
    "par"
   ]
  }
 ],
 "metadata": {
  "kernelspec": {
   "display_name": "Python 3 (ipykernel)",
   "language": "python",
   "name": "python3"
  },
  "language_info": {
   "codemirror_mode": {
    "name": "ipython",
    "version": 3
   },
   "file_extension": ".py",
   "mimetype": "text/x-python",
   "name": "python",
   "nbconvert_exporter": "python",
   "pygments_lexer": "ipython3",
   "version": "3.10.13"
  }
 },
 "nbformat": 4,
 "nbformat_minor": 5
}
